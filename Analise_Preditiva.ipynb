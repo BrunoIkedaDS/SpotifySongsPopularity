{
 "cells": [
  {
   "cell_type": "code",
   "execution_count": 1,
   "id": "fad81339",
   "metadata": {},
   "outputs": [],
   "source": [
    "import numpy as np\n",
    "import pandas as pd\n",
    "import matplotlib.pyplot as plt\n",
    "import seaborn as sns"
   ]
  },
  {
   "cell_type": "code",
   "execution_count": 2,
   "id": "fbd8a109",
   "metadata": {},
   "outputs": [
    {
     "data": {
      "text/html": [
       "<div>\n",
       "<style scoped>\n",
       "    .dataframe tbody tr th:only-of-type {\n",
       "        vertical-align: middle;\n",
       "    }\n",
       "\n",
       "    .dataframe tbody tr th {\n",
       "        vertical-align: top;\n",
       "    }\n",
       "\n",
       "    .dataframe thead th {\n",
       "        text-align: right;\n",
       "    }\n",
       "</style>\n",
       "<table border=\"1\" class=\"dataframe\">\n",
       "  <thead>\n",
       "    <tr style=\"text-align: right;\">\n",
       "      <th></th>\n",
       "      <th>track_id</th>\n",
       "      <th>artists</th>\n",
       "      <th>album_name</th>\n",
       "      <th>track_name</th>\n",
       "      <th>popularity</th>\n",
       "      <th>duration_ms</th>\n",
       "      <th>explicit</th>\n",
       "      <th>danceability</th>\n",
       "      <th>energy</th>\n",
       "      <th>key</th>\n",
       "      <th>mode</th>\n",
       "      <th>speechiness</th>\n",
       "      <th>instrumentalness</th>\n",
       "      <th>liveness</th>\n",
       "      <th>valence</th>\n",
       "      <th>tempo</th>\n",
       "      <th>time_signature</th>\n",
       "      <th>track_genre</th>\n",
       "    </tr>\n",
       "  </thead>\n",
       "  <tbody>\n",
       "    <tr>\n",
       "      <th>0</th>\n",
       "      <td>5SuOikwiRyPMVoIQDJUgSV</td>\n",
       "      <td>10357</td>\n",
       "      <td>8100</td>\n",
       "      <td>11741</td>\n",
       "      <td>73</td>\n",
       "      <td>0.024557</td>\n",
       "      <td>0</td>\n",
       "      <td>0.629239</td>\n",
       "      <td>-0.717147</td>\n",
       "      <td>1</td>\n",
       "      <td>0</td>\n",
       "      <td>0.551843</td>\n",
       "      <td>-0.504111</td>\n",
       "      <td>0.758735</td>\n",
       "      <td>0.929315</td>\n",
       "      <td>-1.141854</td>\n",
       "      <td>3</td>\n",
       "      <td>0</td>\n",
       "    </tr>\n",
       "    <tr>\n",
       "      <th>1</th>\n",
       "      <td>4qPNDBW1i3p13qLCt0Ki3A</td>\n",
       "      <td>3287</td>\n",
       "      <td>14796</td>\n",
       "      <td>22528</td>\n",
       "      <td>55</td>\n",
       "      <td>-0.730889</td>\n",
       "      <td>0</td>\n",
       "      <td>-0.845908</td>\n",
       "      <td>-1.889974</td>\n",
       "      <td>1</td>\n",
       "      <td>1</td>\n",
       "      <td>-0.078995</td>\n",
       "      <td>-0.504097</td>\n",
       "      <td>-0.591216</td>\n",
       "      <td>-0.798681</td>\n",
       "      <td>-1.489708</td>\n",
       "      <td>3</td>\n",
       "      <td>0</td>\n",
       "    </tr>\n",
       "    <tr>\n",
       "      <th>2</th>\n",
       "      <td>1iJBSr7s7jYXzM8EGcbK5b</td>\n",
       "      <td>12397</td>\n",
       "      <td>39162</td>\n",
       "      <td>60774</td>\n",
       "      <td>57</td>\n",
       "      <td>-0.160353</td>\n",
       "      <td>0</td>\n",
       "      <td>-0.742187</td>\n",
       "      <td>-1.122667</td>\n",
       "      <td>0</td>\n",
       "      <td>1</td>\n",
       "      <td>-0.273827</td>\n",
       "      <td>-0.504115</td>\n",
       "      <td>-0.507172</td>\n",
       "      <td>-1.365679</td>\n",
       "      <td>-1.528303</td>\n",
       "      <td>3</td>\n",
       "      <td>0</td>\n",
       "    </tr>\n",
       "    <tr>\n",
       "      <th>3</th>\n",
       "      <td>6lfxq3CG4xtTiEg7opyCyx</td>\n",
       "      <td>14839</td>\n",
       "      <td>8580</td>\n",
       "      <td>9580</td>\n",
       "      <td>71</td>\n",
       "      <td>-0.243236</td>\n",
       "      <td>0</td>\n",
       "      <td>-1.733301</td>\n",
       "      <td>-2.312987</td>\n",
       "      <td>0</td>\n",
       "      <td>1</td>\n",
       "      <td>-0.457309</td>\n",
       "      <td>-0.503886</td>\n",
       "      <td>-0.428381</td>\n",
       "      <td>-1.276965</td>\n",
       "      <td>1.987857</td>\n",
       "      <td>2</td>\n",
       "      <td>0</td>\n",
       "    </tr>\n",
       "    <tr>\n",
       "      <th>4</th>\n",
       "      <td>5vjLSffimiIP26QG5WcN2K</td>\n",
       "      <td>5255</td>\n",
       "      <td>16899</td>\n",
       "      <td>25689</td>\n",
       "      <td>82</td>\n",
       "      <td>-0.271942</td>\n",
       "      <td>0</td>\n",
       "      <td>0.295026</td>\n",
       "      <td>-0.788709</td>\n",
       "      <td>2</td>\n",
       "      <td>1</td>\n",
       "      <td>-0.303146</td>\n",
       "      <td>-0.504115</td>\n",
       "      <td>-0.686290</td>\n",
       "      <td>-1.184394</td>\n",
       "      <td>-0.073343</td>\n",
       "      <td>3</td>\n",
       "      <td>0</td>\n",
       "    </tr>\n",
       "  </tbody>\n",
       "</table>\n",
       "</div>"
      ],
      "text/plain": [
       "                 track_id  artists  album_name  track_name  popularity  \\\n",
       "0  5SuOikwiRyPMVoIQDJUgSV    10357        8100       11741          73   \n",
       "1  4qPNDBW1i3p13qLCt0Ki3A     3287       14796       22528          55   \n",
       "2  1iJBSr7s7jYXzM8EGcbK5b    12397       39162       60774          57   \n",
       "3  6lfxq3CG4xtTiEg7opyCyx    14839        8580        9580          71   \n",
       "4  5vjLSffimiIP26QG5WcN2K     5255       16899       25689          82   \n",
       "\n",
       "   duration_ms  explicit  danceability    energy  key  mode  speechiness  \\\n",
       "0     0.024557         0      0.629239 -0.717147    1     0     0.551843   \n",
       "1    -0.730889         0     -0.845908 -1.889974    1     1    -0.078995   \n",
       "2    -0.160353         0     -0.742187 -1.122667    0     1    -0.273827   \n",
       "3    -0.243236         0     -1.733301 -2.312987    0     1    -0.457309   \n",
       "4    -0.271942         0      0.295026 -0.788709    2     1    -0.303146   \n",
       "\n",
       "   instrumentalness  liveness   valence     tempo  time_signature  track_genre  \n",
       "0         -0.504111  0.758735  0.929315 -1.141854               3            0  \n",
       "1         -0.504097 -0.591216 -0.798681 -1.489708               3            0  \n",
       "2         -0.504115 -0.507172 -1.365679 -1.528303               3            0  \n",
       "3         -0.503886 -0.428381 -1.276965  1.987857               2            0  \n",
       "4         -0.504115 -0.686290 -1.184394 -0.073343               3            0  "
      ]
     },
     "execution_count": 2,
     "metadata": {},
     "output_type": "execute_result"
    }
   ],
   "source": [
    "songs = pd.read_csv(\"data/songsClean.csv\")\n",
    "songs.head()"
   ]
  },
  {
   "cell_type": "markdown",
   "id": "e8f7de37",
   "metadata": {},
   "source": [
    "## Preparando o modelo"
   ]
  },
  {
   "cell_type": "code",
   "execution_count": 31,
   "id": "e9f65c18",
   "metadata": {},
   "outputs": [],
   "source": [
    "from sklearn.model_selection import train_test_split\n",
    "from sklearn.model_selection import cross_val_score\n",
    "from sklearn.metrics import r2_score\n",
    "from sklearn.metrics import mean_squared_error, mean_absolute_error"
   ]
  },
  {
   "cell_type": "code",
   "execution_count": 4,
   "id": "4732ffd2",
   "metadata": {},
   "outputs": [],
   "source": [
    "features = [col for col in songs.columns[1:] if col != \"popularity\"]\n",
    "target = \"popularity\""
   ]
  },
  {
   "cell_type": "code",
   "execution_count": 5,
   "id": "a940c719",
   "metadata": {},
   "outputs": [],
   "source": [
    "x_train, x_test, y_train, y_test = train_test_split(songs[features], songs[target], test_size=.25, random_state=23)"
   ]
  },
  {
   "cell_type": "markdown",
   "id": "d3dca946",
   "metadata": {},
   "source": [
    "## Construindo os modelos"
   ]
  },
  {
   "cell_type": "code",
   "execution_count": 32,
   "id": "7e08beda",
   "metadata": {},
   "outputs": [],
   "source": [
    "def modelAvaliator(mod):\n",
    "    mod.fit(x_train, y_train)\n",
    "    predictions = mod.predict(x_test)\n",
    "    \n",
    "    r2 = r2_score(y_test, predictions)\n",
    "    mae = mean_absolute_error(y_test, predictions)\n",
    "    mse = mean_squared_error(y_test, predictions)\n",
    "    \n",
    "    print(\"R2: {}\\nMean Absolute Error: {}\\nMean Squared Error: {}\".format(r2, mae, mse))"
   ]
  },
  {
   "cell_type": "markdown",
   "id": "a44eab5e",
   "metadata": {},
   "source": [
    "### Linear Regression"
   ]
  },
  {
   "cell_type": "code",
   "execution_count": 7,
   "id": "1b4a0704",
   "metadata": {},
   "outputs": [],
   "source": [
    "from sklearn.linear_model import LinearRegression, Lasso, Ridge"
   ]
  },
  {
   "cell_type": "code",
   "execution_count": 33,
   "id": "d7fe8524",
   "metadata": {},
   "outputs": [
    {
     "name": "stdout",
     "output_type": "stream",
     "text": [
      "R2: 0.023986154791984293\n",
      "Mean Absolute Error: 18.417467845710746\n",
      "Mean Squared Error: 487.90892799735747\n"
     ]
    }
   ],
   "source": [
    "lr = LinearRegression()\n",
    "modelAvaliator(lr)"
   ]
  },
  {
   "cell_type": "code",
   "execution_count": 34,
   "id": "a99ab178",
   "metadata": {},
   "outputs": [
    {
     "name": "stdout",
     "output_type": "stream",
     "text": [
      "R2: 0.011222802754318528\n",
      "Mean Absolute Error: 18.742659870064603\n",
      "Mean Squared Error: 494.28932253881317\n"
     ]
    }
   ],
   "source": [
    "ls = Lasso()\n",
    "modelAvaliator(ls)"
   ]
  },
  {
   "cell_type": "code",
   "execution_count": 35,
   "id": "5d0e6f09",
   "metadata": {},
   "outputs": [
    {
     "name": "stdout",
     "output_type": "stream",
     "text": [
      "R2: 0.02398628159327454\n",
      "Mean Absolute Error: 18.41747201596411\n",
      "Mean Squared Error: 487.9088646094436\n"
     ]
    }
   ],
   "source": [
    "rd = Ridge()\n",
    "modelAvaliator(rd)"
   ]
  },
  {
   "cell_type": "markdown",
   "id": "41bb91aa",
   "metadata": {},
   "source": [
    "### Decision Tree Regressor"
   ]
  },
  {
   "cell_type": "code",
   "execution_count": 23,
   "id": "4a92da5f",
   "metadata": {},
   "outputs": [],
   "source": [
    "from sklearn.tree import DecisionTreeRegressor"
   ]
  },
  {
   "cell_type": "code",
   "execution_count": 36,
   "id": "7ceaa441",
   "metadata": {},
   "outputs": [
    {
     "name": "stdout",
     "output_type": "stream",
     "text": [
      "R2: 0.1114193924468555\n",
      "Mean Absolute Error: 13.294736842105262\n",
      "Mean Squared Error: 444.20108771929824\n"
     ]
    }
   ],
   "source": [
    "dt = DecisionTreeRegressor()\n",
    "modelAvaliator(dt)"
   ]
  },
  {
   "cell_type": "markdown",
   "id": "4b31fe73",
   "metadata": {},
   "source": [
    "### Ensembles"
   ]
  },
  {
   "cell_type": "code",
   "execution_count": 37,
   "id": "62ac1fb3",
   "metadata": {},
   "outputs": [],
   "source": [
    "from sklearn.ensemble import RandomForestRegressor"
   ]
  },
  {
   "cell_type": "code",
   "execution_count": 38,
   "id": "00820c0b",
   "metadata": {},
   "outputs": [
    {
     "name": "stdout",
     "output_type": "stream",
     "text": [
      "R2: 0.5925180967433561\n",
      "Mean Absolute Error: 10.607572060985797\n",
      "Mean Squared Error: 203.70003926931926\n"
     ]
    }
   ],
   "source": [
    "rf = RandomForestRegressor()\n",
    "modelAvaliator(rf)"
   ]
  }
 ],
 "metadata": {
  "kernelspec": {
   "display_name": "Python 3 (ipykernel)",
   "language": "python",
   "name": "python3"
  },
  "language_info": {
   "codemirror_mode": {
    "name": "ipython",
    "version": 3
   },
   "file_extension": ".py",
   "mimetype": "text/x-python",
   "name": "python",
   "nbconvert_exporter": "python",
   "pygments_lexer": "ipython3",
   "version": "3.10.9"
  }
 },
 "nbformat": 4,
 "nbformat_minor": 5
}
